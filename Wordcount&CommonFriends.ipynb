{
  "nbformat": 4,
  "nbformat_minor": 0,
  "metadata": {
    "kernelspec": {
      "name": "python3",
      "display_name": "Python 3"
    },
    "colab": {
      "name": "Google_Colab_Wordcount_&_Common_Friends_Examples (5).ipynb",
      "provenance": [],
      "collapsed_sections": []
    }
  },
  "cells": [
    {
      "cell_type": "code",
      "metadata": {
        "scrolled": true,
        "id": "Gbizw0OcBfis",
        "outputId": "f0277146-6750-454b-84d1-86fc18f51109",
        "colab": {
          "base_uri": "https://localhost:8080/"
        }
      },
      "source": [
        "#Install Java Runtime 8\n",
        "import os       #importing os to set environment variable\n",
        "!apt-get remove -y java*\n",
        "def install_java():\n",
        "  !apt-get install -y openjdk-8-jdk-headless -qq > /dev/null      #install openjdk\n",
        "  os.environ[\"JAVA_HOME\"] = \"/usr/lib/jvm/java-8-openjdk-amd64\"     #set environment variable\n",
        "  !java -version       #check java version\n",
        "install_java()"
      ],
      "execution_count": null,
      "outputs": [
        {
          "output_type": "stream",
          "text": [
            "Reading package lists... Done\n",
            "Building dependency tree       \n",
            "Reading state information... Done\n",
            "Note, selecting 'java-propose-classpath' for glob 'java*'\n",
            "Note, selecting 'java2-sdk' for glob 'java*'\n",
            "Note, selecting 'java2html' for glob 'java*'\n",
            "Note, selecting 'java9-sdk-headless' for glob 'java*'\n",
            "Note, selecting 'java-gcj-compat' for glob 'java*'\n",
            "Note, selecting 'javascript-common' for glob 'java*'\n",
            "Note, selecting 'java11-runtime' for glob 'java*'\n",
            "Note, selecting 'javacc4' for glob 'java*'\n",
            "Note, selecting 'java3ds-fileloader' for glob 'java*'\n",
            "Note, selecting 'java10-runtime' for glob 'java*'\n",
            "Note, selecting 'javahelp2-doc' for glob 'java*'\n",
            "Note, selecting 'java-sdk-headless' for glob 'java*'\n",
            "Note, selecting 'java-sdk' for glob 'java*'\n",
            "Note, selecting 'java6-sdk-headless' for glob 'java*'\n",
            "Note, selecting 'java11-sdk' for glob 'java*'\n",
            "Note, selecting 'java10-sdk-headless' for glob 'java*'\n",
            "Note, selecting 'javalex' for glob 'java*'\n",
            "Note, selecting 'java-compiler' for glob 'java*'\n",
            "Note, selecting 'java1-runtime-headless' for glob 'java*'\n",
            "Note, selecting 'java-runtime' for glob 'java*'\n",
            "Note, selecting 'java9-sdk' for glob 'java*'\n",
            "Note, selecting 'java2-runtime' for glob 'java*'\n",
            "Note, selecting 'java10-runtime-headless' for glob 'java*'\n",
            "Note, selecting 'javamorph' for glob 'java*'\n",
            "Note, selecting 'java7-sdk' for glob 'java*'\n",
            "Note, selecting 'java1-runtime' for glob 'java*'\n",
            "Note, selecting 'java2-runtime-headless' for glob 'java*'\n",
            "Note, selecting 'javahelper' for glob 'java*'\n",
            "Note, selecting 'java5-runtime' for glob 'java*'\n",
            "Note, selecting 'java5-sdk' for glob 'java*'\n",
            "Note, selecting 'java11-runtime-headless' for glob 'java*'\n",
            "Note, selecting 'java7-sdk-headless' for glob 'java*'\n",
            "Note, selecting 'javacc4-doc' for glob 'java*'\n",
            "Note, selecting 'java7-runtime' for glob 'java*'\n",
            "Note, selecting 'java6-runtime' for glob 'java*'\n",
            "Note, selecting 'javacc' for glob 'java*'\n",
            "Note, selecting 'java-runtime-headless' for glob 'java*'\n",
            "Note, selecting 'java9-runtime' for glob 'java*'\n",
            "Note, selecting 'java5-runtime-headless' for glob 'java*'\n",
            "Note, selecting 'java8-runtime' for glob 'java*'\n",
            "Note, selecting 'java5-sdk-headless' for glob 'java*'\n",
            "Note, selecting 'java11-sdk-headless' for glob 'java*'\n",
            "Note, selecting 'java10-sdk' for glob 'java*'\n",
            "Note, selecting 'javahelp2' for glob 'java*'\n",
            "Note, selecting 'java6-runtime-headless' for glob 'java*'\n",
            "Note, selecting 'java8-sdk-headless' for glob 'java*'\n",
            "Note, selecting 'javacc-doc' for glob 'java*'\n",
            "Note, selecting 'java7-runtime-headless' for glob 'java*'\n",
            "Note, selecting 'java-package' for glob 'java*'\n",
            "Note, selecting 'java2-sdk-headless' for glob 'java*'\n",
            "Note, selecting 'java8-sdk' for glob 'java*'\n",
            "Note, selecting 'java8-runtime-headless' for glob 'java*'\n",
            "Note, selecting 'java-common' for glob 'java*'\n",
            "Note, selecting 'java6-sdk' for glob 'java*'\n",
            "Note, selecting 'java-wrappers' for glob 'java*'\n",
            "Note, selecting 'java-virtual-machine' for glob 'java*'\n",
            "Note, selecting 'java-policy' for glob 'java*'\n",
            "Note, selecting 'java9-runtime-headless' for glob 'java*'\n",
            "Package 'java1-runtime-headless' is not installed, so not removed\n",
            "Package 'java1-runtime' is not installed, so not removed\n",
            "Package 'javalex' is not installed, so not removed\n",
            "Package 'java-virtual-machine' is not installed, so not removed\n",
            "Package 'java-gcj-compat' is not installed, so not removed\n",
            "Package 'javascript-common' is not installed, so not removed\n",
            "Package 'java-policy' is not installed, so not removed\n",
            "Package 'java-wrappers' is not installed, so not removed\n",
            "Package 'java2html' is not installed, so not removed\n",
            "Package 'java3ds-fileloader' is not installed, so not removed\n",
            "Package 'javacc' is not installed, so not removed\n",
            "Package 'javacc-doc' is not installed, so not removed\n",
            "Package 'javacc4' is not installed, so not removed\n",
            "Package 'javacc4-doc' is not installed, so not removed\n",
            "Package 'javahelp2' is not installed, so not removed\n",
            "Package 'javahelp2-doc' is not installed, so not removed\n",
            "Package 'javamorph' is not installed, so not removed\n",
            "Package 'java-package' is not installed, so not removed\n",
            "Package 'java-propose-classpath' is not installed, so not removed\n",
            "Package 'javahelper' is not installed, so not removed\n",
            "The following packages were automatically installed and are no longer required:\n",
            "  cuda-command-line-tools-10-0 cuda-compiler-10-0 cuda-cuobjdump-10-0\n",
            "  cuda-cupti-10-0 cuda-demo-suite-10-0 cuda-demo-suite-10-1\n",
            "  cuda-documentation-10-0 cuda-documentation-10-1 cuda-drivers\n",
            "  cuda-drivers-455 cuda-gdb-10-0 cuda-gpu-library-advisor-10-0\n",
            "  cuda-libraries-10-0 cuda-memcheck-10-0 cuda-nsight-compute-10-0\n",
            "  cuda-nsight-compute-10-1 cuda-nsight-systems-10-1 cuda-nvcc-10-0\n",
            "  cuda-nvdisasm-10-0 cuda-nvml-dev-10-0 cuda-nvprof-10-0 cuda-nvprune-10-0\n",
            "  cuda-nvtx-10-0 cuda-runtime-10-0 cuda-runtime-10-1 cuda-samples-10-0\n",
            "  cuda-samples-10-1 dkms freeglut3 freeglut3-dev keyboard-configuration\n",
            "  libargon2-0 libcap2 libcryptsetup12 libdevmapper1.02.1 libfontenc1 libidn11\n",
            "  libip4tc0 libjansson4 libnvidia-decode-455 libnvidia-encode-455\n",
            "  libnvidia-extra-455 libnvidia-fbc1-455 libnvidia-ifr1-455 libpam-systemd\n",
            "  libpcsclite1 libpolkit-agent-1-0 libpolkit-backend-1-0 libpolkit-gobject-1-0\n",
            "  libxfont2 libxi-dev libxkbfile1 libxmu-dev libxmu-headers libxnvctrl0\n",
            "  libxtst6 nsight-compute-2020.2.0 nsight-systems-2020.3.4\n",
            "  nvidia-compute-utils-455 nvidia-dkms-455 nvidia-driver-455\n",
            "  nvidia-kernel-common-455 nvidia-kernel-source-455 nvidia-modprobe\n",
            "  nvidia-settings nvidia-utils-455 policykit-1 policykit-1-gnome python3-xkit\n",
            "  screen-resolution-extra systemd systemd-sysv udev x11-xkb-utils\n",
            "  xserver-common xserver-xorg-core-hwe-18.04 xserver-xorg-video-nvidia-455\n",
            "Use 'apt autoremove' to remove them.\n",
            "The following packages will be REMOVED:\n",
            "  ca-certificates-java java-common openjdk-8-jdk-headless\n",
            "  openjdk-8-jre-headless\n",
            "0 upgraded, 0 newly installed, 4 to remove and 11 not upgraded.\n",
            "After this operation, 143 MB disk space will be freed.\n",
            "(Reading database ... 138809 files and directories currently installed.)\n",
            "Removing openjdk-8-jdk-headless:amd64 (8u272-b10-0ubuntu1~18.04) ...\n",
            "Removing openjdk-8-jre-headless:amd64 (8u272-b10-0ubuntu1~18.04) ...\n",
            "Removing java-common (0.68ubuntu1~18.04.1) ...\n",
            "Removing ca-certificates-java (20180516ubuntu1~18.04.1) ...\n",
            "Processing triggers for ca-certificates (20201027ubuntu0.18.04.1) ...\n",
            "Updating certificates in /etc/ssl/certs...\n",
            "0 added, 0 removed; done.\n",
            "Running hooks in /etc/ca-certificates/update.d...\n",
            "\n",
            "updates of cacerts keystore disabled.\n",
            "done.\n",
            "Processing triggers for man-db (2.8.3-2ubuntu0.1) ...\n",
            "openjdk version \"1.8.0_272\"\n",
            "OpenJDK Runtime Environment (build 1.8.0_272-8u272-b10-0ubuntu1~18.04-b10)\n",
            "OpenJDK 64-Bit Server VM (build 25.272-b10, mixed mode)\n"
          ],
          "name": "stdout"
        }
      ]
    },
    {
      "cell_type": "code",
      "metadata": {
        "id": "-cm1g7UyFBRe",
        "outputId": "0abed13e-8310-4ee6-de92-0bc5ec0057c7",
        "colab": {
          "base_uri": "https://localhost:8080/",
          "height": 72
        }
      },
      "source": [
        "#Initialize Spark Runtime Environment\n",
        "!export JAVA_HOME=/usr/lib/jvm/java-8-openjdk-amd64/jre\n",
        "!pip install pyspark\n",
        "import pyspark\n",
        "from pyspark.sql import SparkSession\n",
        "import pandas as pd\n",
        "from pyspark.sql import SQLContext\n",
        "\n",
        "spark = SparkSession.builder \\\n",
        "   .master(\"local\") \\\n",
        "   .appName(\"Wordcount & Friends Tutorial\") \\\n",
        "   .config(\"spark.executor.memory\", \"2gb\") \\\n",
        "   .getOrCreate()\n",
        "   \n",
        "sc = spark.sparkContext\n",
        "sqlContext = SQLContext(sc)\n",
        "\n",
        "sc.version"
      ],
      "execution_count": null,
      "outputs": [
        {
          "output_type": "stream",
          "text": [
            "Requirement already satisfied: pyspark in /usr/local/lib/python3.6/dist-packages (3.0.1)\n",
            "Requirement already satisfied: py4j==0.10.9 in /usr/local/lib/python3.6/dist-packages (from pyspark) (0.10.9)\n"
          ],
          "name": "stdout"
        },
        {
          "output_type": "execute_result",
          "data": {
            "application/vnd.google.colaboratory.intrinsic+json": {
              "type": "string"
            },
            "text/plain": [
              "'3.0.1'"
            ]
          },
          "metadata": {
            "tags": []
          },
          "execution_count": 11
        }
      ]
    },
    {
      "cell_type": "markdown",
      "metadata": {
        "id": "yJS7s4JaBfiy"
      },
      "source": [
        "PART-1:  \"WORDCOUNT\" EXAMPLE USING MAPREDUCE"
      ]
    },
    {
      "cell_type": "code",
      "metadata": {
        "scrolled": true,
        "id": "MS4nn8uMBfiz",
        "outputId": "4c147db0-7a29-4667-94ff-f4e3741f64b0",
        "colab": {
          "base_uri": "https://localhost:8080/"
        }
      },
      "source": [
        "# Fetch the text file for wordcount example\n",
        "!wget \"https://raw.githubusercontent.com/preethambonthula/AnalyticsHW7/main/WordCount\"\n",
        "!cat WordCount"
      ],
      "execution_count": null,
      "outputs": [
        {
          "output_type": "stream",
          "text": [
            "--2020-11-05 22:11:42--  https://raw.githubusercontent.com/preethambonthula/AnalyticsHW7/main/WordCount\n",
            "Resolving raw.githubusercontent.com (raw.githubusercontent.com)... 151.101.0.133, 151.101.64.133, 151.101.128.133, ...\n",
            "Connecting to raw.githubusercontent.com (raw.githubusercontent.com)|151.101.0.133|:443... connected.\n",
            "HTTP request sent, awaiting response... 200 OK\n",
            "Length: 1088 (1.1K) [text/plain]\n",
            "Saving to: ‘WordCount.1’\n",
            "\n",
            "\rWordCount.1           0%[                    ]       0  --.-KB/s               \rWordCount.1         100%[===================>]   1.06K  --.-KB/s    in 0s      \n",
            "\n",
            "2020-11-05 22:11:42 (59.8 MB/s) - ‘WordCount.1’ saved [1088/1088]\n",
            "\n",
            "Machine learning (ML) is the study of computer algorithms that improve automatically through experience.\n",
            "It is seen as a subset of artificial intelligence. \n",
            "Machine learning algorithms build a model based on sample data, known as \"training data\", in order to make predictions or decisions without being explicitly programmed to do so.\n",
            "Machine learning algorithms are used in a wide variety of applications, such as email filtering and computer vision, \n",
            "where it is difficult or infeasible to develop conventional algorithms to perform the needed tasks. \n",
            "A subset of machine learning is closely related to computational statistics, which focuses on making predictions using computers.\n",
            "But not all machine learning is statistical learning.\n",
            "The study of mathematical optimization delivers methods, theory and application domains to the field of machine learning.\n",
            "Data mining is a related field of study, focusing on exploratory data analysis through unsupervised learning.\n",
            "In its application across business problems, machine learning is also referred to as predictive analytics. \n"
          ],
          "name": "stdout"
        }
      ]
    },
    {
      "cell_type": "code",
      "metadata": {
        "id": "g3xYUMwgBfi1",
        "outputId": "ac7a6774-a416-4c12-c074-dd2bdf3b7b56",
        "colab": {
          "base_uri": "https://localhost:8080/"
        }
      },
      "source": [
        "#Simple example to read text file\n",
        "rdd0 = sc.textFile(\"WordCount\")\n",
        "rdd0.take(20)"
      ],
      "execution_count": null,
      "outputs": [
        {
          "output_type": "execute_result",
          "data": {
            "text/plain": [
              "['Machine learning (ML) is the study of computer algorithms that improve automatically through experience.',\n",
              " 'It is seen as a subset of artificial intelligence. ',\n",
              " 'Machine learning algorithms build a model based on sample data, known as \"training data\", in order to make predictions or decisions without being explicitly programmed to do so.',\n",
              " 'Machine learning algorithms are used in a wide variety of applications, such as email filtering and computer vision, ',\n",
              " 'where it is difficult or infeasible to develop conventional algorithms to perform the needed tasks. ',\n",
              " 'A subset of machine learning is closely related to computational statistics, which focuses on making predictions using computers.',\n",
              " 'But not all machine learning is statistical learning.',\n",
              " 'The study of mathematical optimization delivers methods, theory and application domains to the field of machine learning.',\n",
              " 'Data mining is a related field of study, focusing on exploratory data analysis through unsupervised learning.',\n",
              " 'In its application across business problems, machine learning is also referred to as predictive analytics. ']"
            ]
          },
          "metadata": {
            "tags": []
          },
          "execution_count": 14
        }
      ]
    },
    {
      "cell_type": "code",
      "metadata": {
        "id": "vHUSahn0Bfi3",
        "outputId": "46cd0b65-a42b-40d5-b0cf-b9c28de06363",
        "colab": {
          "base_uri": "https://localhost:8080/"
        }
      },
      "source": [
        "word_counts = rdd0.flatMap(lambda line: line.split()).map(lambda word: (word, 1)).reduceByKey(lambda a, b: (a + b)).map(lambda x:(x[1],x[0]))\n",
        "\n",
        "word_counts.take(30)\n"
      ],
      "execution_count": null,
      "outputs": [
        {
          "output_type": "execute_result",
          "data": {
            "text/plain": [
              "[(3, 'Machine'),\n",
              " (6, 'learning'),\n",
              " (1, '(ML)'),\n",
              " (7, 'is'),\n",
              " (3, 'the'),\n",
              " (2, 'study'),\n",
              " (7, 'of'),\n",
              " (2, 'computer'),\n",
              " (4, 'algorithms'),\n",
              " (1, 'that'),\n",
              " (1, 'improve'),\n",
              " (1, 'automatically'),\n",
              " (2, 'through'),\n",
              " (1, 'experience.'),\n",
              " (1, 'It'),\n",
              " (1, 'seen'),\n",
              " (4, 'as'),\n",
              " (4, 'a'),\n",
              " (2, 'subset'),\n",
              " (1, 'artificial'),\n",
              " (1, 'intelligence.'),\n",
              " (1, 'build'),\n",
              " (1, 'model'),\n",
              " (1, 'based'),\n",
              " (3, 'on'),\n",
              " (1, 'sample'),\n",
              " (1, 'data,'),\n",
              " (1, 'known'),\n",
              " (1, '\"training'),\n",
              " (1, 'data\",')]"
            ]
          },
          "metadata": {
            "tags": []
          },
          "execution_count": 15
        }
      ]
    },
    {
      "cell_type": "code",
      "metadata": {
        "id": "6LTmTVaDBfi5"
      },
      "source": [
        ""
      ],
      "execution_count": null,
      "outputs": []
    },
    {
      "cell_type": "markdown",
      "metadata": {
        "id": "qdhk4DAvBfi7"
      },
      "source": [
        "PART-2:  \"COMMON FRIENDS\" EXAMPLE USINg MAPREDUCE"
      ]
    },
    {
      "cell_type": "code",
      "metadata": {
        "id": "De0FS6zUBfi8",
        "outputId": "4173fb54-128e-4ee6-830c-3bc8cbf85013",
        "colab": {
          "base_uri": "https://localhost:8080/"
        }
      },
      "source": [
        "# Load data from github\n",
        "!wget \"https://raw.githubusercontent.com/preethambonthula/AnalyticsHW7/main/Friends\"\n",
        "rdd = sc.textFile(\"Friends\")\n",
        "!cat Friends"
      ],
      "execution_count": null,
      "outputs": [
        {
          "output_type": "stream",
          "text": [
            "--2020-11-05 22:12:34--  https://raw.githubusercontent.com/preethambonthula/AnalyticsHW7/main/Friends\n",
            "Resolving raw.githubusercontent.com (raw.githubusercontent.com)... 151.101.0.133, 151.101.64.133, 151.101.128.133, ...\n",
            "Connecting to raw.githubusercontent.com (raw.githubusercontent.com)|151.101.0.133|:443... connected.\n",
            "HTTP request sent, awaiting response... 200 OK\n",
            "Length: 195 [text/plain]\n",
            "Saving to: ‘Friends’\n",
            "\n",
            "Friends             100%[===================>]     195  --.-KB/s    in 0s      \n",
            "\n",
            "2020-11-05 22:12:34 (10.3 MB/s) - ‘Friends’ saved [195/195]\n",
            "\n",
            "me Bharath\n",
            "Varun me \n",
            "Varun Bharath\n",
            "me Shiva \n",
            "Shiva Bharath\n",
            "Varun Ravi\n",
            "Ravi Shiva \n",
            "Shiva Varun\n",
            "Adithya me \n",
            "Ravi Adithya \n",
            "Ravi Bharath\n",
            "Kaushik Varun \n",
            "Bharath Kaushik \n",
            "Kaushik Adithya\n"
          ],
          "name": "stdout"
        }
      ]
    },
    {
      "cell_type": "code",
      "metadata": {
        "id": "dzxa1wFwBfi-",
        "outputId": "7ccb680d-2e44-4f00-bdf6-c3ebccb3dcb7",
        "colab": {
          "base_uri": "https://localhost:8080/"
        }
      },
      "source": [
        "# Print the RDD content\n",
        "rdd.take(20)"
      ],
      "execution_count": null,
      "outputs": [
        {
          "output_type": "execute_result",
          "data": {
            "text/plain": [
              "['me Bharath',\n",
              " 'Varun me ',\n",
              " 'Varun Bharath',\n",
              " 'me Shiva ',\n",
              " 'Shiva Bharath',\n",
              " 'Varun Ravi',\n",
              " 'Ravi Shiva ',\n",
              " 'Shiva Varun',\n",
              " 'Adithya me ',\n",
              " 'Ravi Adithya ',\n",
              " 'Ravi Bharath',\n",
              " 'Kaushik Varun ',\n",
              " 'Bharath Kaushik ',\n",
              " 'Kaushik Adithya']"
            ]
          },
          "metadata": {
            "tags": []
          },
          "execution_count": 17
        }
      ]
    },
    {
      "cell_type": "code",
      "metadata": {
        "id": "mFa-JguKBfjA",
        "outputId": "3ff9c6b5-7900-4efc-d08e-dfd0ccad2109",
        "colab": {
          "base_uri": "https://localhost:8080/"
        }
      },
      "source": [
        "rdd1=rdd.map(lambda x: x.split()).union(rdd.map(lambda x: x.split()[::-1]))\n",
        "# Bring my friend list to local\n",
        "lst = rdd1.filter(lambda x: x[0] == 'me').map(lambda x: x[1]).collect()\n",
        "# Build the second pair RDD\n",
        "rdd2 = rdd1.filter(lambda x: x[0] in lst).map(lambda x: x[1]). \\\n",
        "    filter(lambda x: x != 'me' and x not in lst). \\\n",
        "    map(lambda x: (x, 1)).reduceByKey(lambda a, b: a + b). \\\n",
        "    map(lambda x: (x[1], x[0])).sortByKey(ascending = False)\n",
        "# Bring the result to local since the sample is small\n",
        "for x, y in rdd2.collect():\n",
        "   print (\"The stranger {} has {} common friends with me\".format(y, x))\n"
      ],
      "execution_count": null,
      "outputs": [
        {
          "output_type": "stream",
          "text": [
            "The stranger Ravi has 4 common friends with me\n",
            "The stranger Kaushik has 3 common friends with me\n"
          ],
          "name": "stdout"
        }
      ]
    },
    {
      "cell_type": "code",
      "metadata": {
        "id": "m1bHIAzFBfjC"
      },
      "source": [
        ""
      ],
      "execution_count": null,
      "outputs": []
    }
  ]
}